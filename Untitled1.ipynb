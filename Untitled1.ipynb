{
  "nbformat": 4,
  "nbformat_minor": 0,
  "metadata": {
    "colab": {
      "provenance": [],
      "authorship_tag": "ABX9TyNrZjN1hBIOs4Iwwa3BVGGQ",
      "include_colab_link": true
    },
    "kernelspec": {
      "name": "python3",
      "display_name": "Python 3"
    },
    "language_info": {
      "name": "python"
    }
  },
  "cells": [
    {
      "cell_type": "markdown",
      "metadata": {
        "id": "view-in-github",
        "colab_type": "text"
      },
      "source": [
        "<a href=\"https://colab.research.google.com/github/taka-onohara/google-colab/blob/main/Untitled1.ipynb\" target=\"_parent\"><img src=\"https://colab.research.google.com/assets/colab-badge.svg\" alt=\"Open In Colab\"/></a>"
      ]
    },
    {
      "cell_type": "code",
      "execution_count": null,
      "metadata": {
        "colab": {
          "base_uri": "https://localhost:8080/"
        },
        "id": "_ZCFYpSpFaYN",
        "outputId": "28c2575a-673a-421f-be96-f043e07cd970"
      },
      "outputs": [
        {
          "output_type": "stream",
          "name": "stdout",
          "text": [
            "       year countrycode        rgdpna      rkna         emp     labsh  \\\n",
            "2145   1995         CAN  1.059683e+06  0.470508   13.502547  0.683057   \n",
            "5925   1995         ITA  2.142860e+06  0.672925   22.028454  0.525409   \n",
            "4315   1995         GBR  1.840006e+06  0.582493   25.669792  0.544222   \n",
            "6135   1995         JPN  4.156866e+06  0.687249   67.657578  0.598764   \n",
            "4175   1995         FRA  2.015066e+06  0.605657   23.658522  0.620158   \n",
            "3265   1995         DEU  3.107615e+06  0.657256   37.815830  0.661148   \n",
            "12155  1995         USA  1.144990e+07  0.519351  127.462738  0.607377   \n",
            "5926   1996         ITA  2.170005e+06  0.689952   22.114836  0.527412   \n",
            "4316   1996         GBR  1.885852e+06  0.604429   25.924555  0.533988   \n",
            "12156  1996         USA  1.188185e+07  0.539946  129.357666  0.607116   \n",
            "\n",
            "               avh    rtfpna      ln(y)     ln(A)         k     alpha  \\\n",
            "2145   1785.016344  0.975110  11.270602 -0.025205 -3.356821  0.316943   \n",
            "5925   1856.212894  1.191234  11.485317  0.174990 -3.488456  0.474591   \n",
            "4315   1722.625249  0.939039  11.179965 -0.062899 -3.785752  0.455778   \n",
            "6135   1911.600000  0.967191  11.025813 -0.033360 -4.589519  0.401236   \n",
            "4175   1601.211588  0.972247  11.352439 -0.028146 -3.665165  0.379842   \n",
            "3265   1530.571474  0.907356  11.316638 -0.097220 -4.052410  0.338852   \n",
            "12155  1817.474328  0.864630  11.405667 -0.145454 -5.502999  0.392623   \n",
            "5926   1866.151756  1.181289  11.493992  0.166606 -3.467383  0.472588   \n",
            "4316   1722.092499  0.936591  11.194699 -0.065509 -3.758662  0.466012   \n",
            "12156  1823.520522  0.872310  11.427941 -0.136611 -5.478868  0.392884   \n",
            "\n",
            "       alpha * ln(k)          hours         calc  \n",
            "2145             NaN   24102.267559   755.913251  \n",
            "5925             NaN   40889.500036   261.417408  \n",
            "4315             NaN   44219.432146   247.716333  \n",
            "6135             NaN  129334.225177   956.903595  \n",
            "4175             NaN   37882.299026   555.148930  \n",
            "3265             NaN   57879.831003  1108.544998  \n",
            "12155            NaN  231660.254131  1212.281158  \n",
            "5926             NaN   41269.639548   269.477313  \n",
            "4316             NaN   44644.481403   225.201836  \n",
            "12156            NaN  235886.358648  1251.325391  \n"
          ]
        },
        {
          "output_type": "stream",
          "name": "stderr",
          "text": [
            "/usr/local/lib/python3.10/dist-packages/pandas/core/arraylike.py:402: RuntimeWarning: invalid value encountered in log\n",
            "  result = getattr(ufunc, method)(*inputs, **kwargs)\n"
          ]
        }
      ],
      "source": [
        "import pandas as pd\n",
        "import numpy as np\n",
        "\n",
        "# Load data\n",
        "pwt1001 = pd.read_stata('https://dataverse.nl/api/access/datafile/354098')\n",
        "\n",
        "# Filter and select relevant columns\n",
        "data = pwt1001.loc[pwt1001['country'].isin([\"France\",\"Germany\",\"Canada\",\"Italy\",\"Japan\",\"United Kingdom\",\"United States\"])][['year', 'countrycode', 'rgdpna', 'rkna', 'emp', 'labsh','avh','rtfpna']]\n",
        "data = data.loc[(data['year'] >= 1995) & (data['year'] <= 2019)].dropna()\n",
        "\n",
        "# Y = rgdpna, A = rtfpna, K = rkna, L = emp, alpha = 1 - labsh\n",
        "data['ln(y)'] = np.log(data['rgdpna'] / data['emp'])\n",
        "data['ln(A)'] = np.log(data['rtfpna'])\n",
        "data['k'] = np.log(data['rkna'] / data['emp'])\n",
        "data['alpha'] = 1 - data['labsh']\n",
        "data['alpha * ln(k)'] = data['alpha']*np.log(data['k'])\n",
        "\n",
        "data['hours'] = data['emp'] * data['avh']  # L\n",
        "data['calc'] = data['rtfpna']*(data['rkna']**data['alpha'])*(data['hours']**data['labsh'])\n",
        "\n",
        "# Order by year\n",
        "data = data.sort_values('year')\n",
        "\n",
        "# Group by isocode\n",
        "grouped_data = data.groupby('countrycode')\n",
        "\n",
        "\n",
        "\n",
        "print(data.head(10))"
      ]
    }
  ]
}