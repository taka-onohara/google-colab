{
  "cells": [
    {
      "attachments": {},
      "cell_type": "markdown",
      "metadata": {
        "colab_type": "text",
        "id": "view-in-github"
      },
      "source": [
        "<a href=\"https://colab.research.google.com/github/taka-onohara/google-colab/blob/main/Untitled1.ipynb\" target=\"_parent\"><img src=\"https://colab.research.google.com/assets/colab-badge.svg\" alt=\"Open In Colab\"/></a>"
      ]
    },
    {
      "cell_type": "code",
      "execution_count": 4,
      "metadata": {
        "colab": {
          "base_uri": "https://localhost:8080/"
        },
        "id": "_ZCFYpSpFaYN",
        "outputId": "4b6876df-bee0-48c0-983b-c3268dc6a37f"
      },
      "outputs": [
        {
          "name": "stdout",
          "output_type": "stream",
          "text": [
            "---summary---\n",
            "             growth_rate  TFP_growth  capital_deepening  TFP_share  \\\n",
            "countrycode                                                          \n",
            "CAN             0.887700    0.254341           0.633358   0.286517   \n",
            "DEU             0.661055    0.218340           0.442714   0.330290   \n",
            "FRA             0.829236    0.260727           0.568510   0.314418   \n",
            "GBR             1.015544    0.443319           0.572228   0.436534   \n",
            "ITA            -0.037181   -0.571819           0.534638  15.379181   \n",
            "JPN             0.710956    0.064154           0.646805   0.090237   \n",
            "USA             1.536985    0.744728           0.792254   0.484538   \n",
            "\n",
            "             capital_share  \n",
            "countrycode                 \n",
            "CAN               0.713482  \n",
            "DEU               0.669708  \n",
            "FRA               0.685583  \n",
            "GBR               0.563469  \n",
            "ITA             -14.379178  \n",
            "JPN               0.909767  \n",
            "USA               0.515460  \n",
            "---overall---\n",
            "growth_rate          0.800614\n",
            "TFP_growth           0.201970\n",
            "capital_deepening    0.598644\n",
            "TFP_share            0.252269\n",
            "capital_share        0.747731\n",
            "dtype: float32\n"
          ]
        },
        {
          "name": "stderr",
          "output_type": "stream",
          "text": [
            "C:\\Users\\tonoh\\AppData\\Local\\Temp\\ipykernel_20044\\43792725.py:42: SettingWithCopyWarning: \n",
            "A value is trying to be set on a copy of a slice from a DataFrame.\n",
            "Try using .loc[row_indexer,col_indexer] = value instead\n",
            "\n",
            "See the caveats in the documentation: https://pandas.pydata.org/pandas-docs/stable/user_guide/indexing.html#returning-a-view-versus-a-copy\n",
            "  data['test2'] = data['TFP_growth'] + data['capital_deepening']\n",
            "C:\\Users\\tonoh\\AppData\\Local\\Temp\\ipykernel_20044\\43792725.py:48: SettingWithCopyWarning: \n",
            "A value is trying to be set on a copy of a slice from a DataFrame.\n",
            "Try using .loc[row_indexer,col_indexer] = value instead\n",
            "\n",
            "See the caveats in the documentation: https://pandas.pydata.org/pandas-docs/stable/user_guide/indexing.html#returning-a-view-versus-a-copy\n",
            "  data['TFP_share'] = data['TFP_growth'] / data['growth_rate']\n",
            "C:\\Users\\tonoh\\AppData\\Local\\Temp\\ipykernel_20044\\43792725.py:49: SettingWithCopyWarning: \n",
            "A value is trying to be set on a copy of a slice from a DataFrame.\n",
            "Try using .loc[row_indexer,col_indexer] = value instead\n",
            "\n",
            "See the caveats in the documentation: https://pandas.pydata.org/pandas-docs/stable/user_guide/indexing.html#returning-a-view-versus-a-copy\n",
            "  data['capital_share'] = data['capital_deepening'] / data['growth_rate']\n"
          ]
        }
      ],
      "source": [
        "import pandas as pd\n",
        "import numpy as np\n",
        "\n",
        "# Load data\n",
        "#pwt90 = pd.read_stata('https://www.rug.nl/ggdc/docs/pwt90.dta')\n",
        "pwt1001 = pd.read_stata('https://dataverse.nl/api/access/datafile/354098')\n",
        "\n",
        "# Filter and select relevant columns\n",
        "#data = pwt90.loc[pwt90['country'].isin([\"France\",\"Germany\",\"Canada\",\"Italy\",\"Japan\",\"United Kingdom\",\"United States\"])][['year', 'countrycode', 'rgdpna', 'rkna', 'emp', 'labsh','avh']]\n",
        "data = pwt1001.loc[pwt1001['country'].isin([\"France\",\"Germany\",\"Canada\",\"Italy\",\"Japan\",\"United Kingdom\",\"United States\"])][['year', 'countrycode', 'rgdpna', 'rkna', 'emp', 'labsh','avh']]\n",
        "data = data.loc[(data['year'] >= 1995) & (data['year'] <= 2019)].dropna()\n",
        "\n",
        "# Y = rgdpna, K = rkna, L = emp (* avh?), alpha = 1 - labsh then fix by country, A = (the rest)\n",
        "data['Y'] = data['rgdpna']\n",
        "data['K'] = data['rkna']\n",
        "data['L'] = data['emp']\n",
        "data['alpha'] = 1 - data['labsh']\n",
        "data['alpha'] = data.groupby('countrycode')['alpha'].transform('mean')\n",
        "data['A'] = data['Y'] / ((data['K'] ** data['alpha']) * (data['L'] ** (1 - data['alpha'])))\n",
        "\n",
        "data['test'] = data['A'] * (data['K'] ** data['alpha']) * (data['L'] ** (1 - data['alpha']))\n",
        "data.drop(data.columns[[2,3,4,5,6]], axis=1, inplace=True)\n",
        "# print(data.head(10))\n",
        "\n",
        "# y = Y/L, k = K/L, ln(y) = ln(A) + alpha * ln(k)\n",
        "data['ln(y)'] = np.log(data['Y'] / data['L'])\n",
        "data['ln(A)'] = np.log(data['A'])\n",
        "data['ln(k)'] = np.log(data['K'] / data['L'])\n",
        "\n",
        "data['test1'] = data['ln(A)'] + data['alpha'] * data['ln(k)']\n",
        "#print(data.head(10))\n",
        "\n",
        "data = data.sort_values('year')\n",
        "grouped_data = data.groupby('countrycode')\n",
        "\n",
        "data['growth_rate'] = grouped_data['ln(y)'].diff() * 100\n",
        "data['TFP_growth'] = grouped_data['ln(A)'].diff() * 100\n",
        "data['capital_deepening'] = data['alpha'] * (grouped_data['ln(k)'].diff() * 100)\n",
        "\n",
        "data = data.dropna()\n",
        "\n",
        "data['test2'] = data['TFP_growth'] + data['capital_deepening']\n",
        "#print(data['alpha'].head(25))\n",
        "\n",
        "\n",
        "#data.rename(columns = {'alpha':'capital_share'}, inplace = True)\n",
        "#data['TFP_share'] = 1 - data['capital_share']\n",
        "data['TFP_share'] = data['TFP_growth'] / data['growth_rate']\n",
        "data['capital_share'] = data['capital_deepening'] / data['growth_rate']\n",
        "#print(data[['TFP_share','TFP_share1','capital_share','capital_share1']].head(10))\n",
        "\n",
        "summary = data.groupby('countrycode').agg({'growth_rate': 'mean',\n",
        "                                           'TFP_growth':'mean',\n",
        "                                           'capital_deepening':'mean',\n",
        "                                           })\n",
        "summary['TFP_share'] = summary['TFP_growth'] / summary['growth_rate']\n",
        "summary['capital_share'] = summary['capital_deepening'] / summary['growth_rate']\n",
        "\n",
        "print('---summary---')\n",
        "print(summary)\n",
        "\n",
        "overall = summary[['growth_rate','TFP_growth','capital_deepening']].mean()\n",
        "overall['TFP_share'] = overall['TFP_growth'] / overall['growth_rate']\n",
        "overall['capital_share'] = overall['capital_deepening'] / overall['growth_rate']\n",
        "print('---overall---')\n",
        "print(overall)"
      ]
    }
  ],
  "metadata": {
    "colab": {
      "authorship_tag": "ABX9TyMUidYrGCrv7hAHQmzvx9iH",
      "include_colab_link": true,
      "provenance": []
    },
    "kernelspec": {
      "display_name": "Python 3",
      "name": "python3"
    },
    "language_info": {
      "codemirror_mode": {
        "name": "ipython",
        "version": 3
      },
      "file_extension": ".py",
      "mimetype": "text/x-python",
      "name": "python",
      "nbconvert_exporter": "python",
      "pygments_lexer": "ipython3",
      "version": "3.9.12"
    }
  },
  "nbformat": 4,
  "nbformat_minor": 0
}
