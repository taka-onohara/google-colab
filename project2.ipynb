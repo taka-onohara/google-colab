{
  "cells": [
    {
      "attachments": {},
      "cell_type": "markdown",
      "metadata": {
        "colab_type": "text",
        "id": "view-in-github"
      },
      "source": [
        "<a href=\"https://colab.research.google.com/github/taka-onohara/google-colab/blob/main/Untitled1.ipynb\" target=\"_parent\"><img src=\"https://colab.research.google.com/assets/colab-badge.svg\" alt=\"Open In Colab\"/></a>"
      ]
    },
    {
      "cell_type": "code",
      "execution_count": 28,
      "metadata": {
        "colab": {
          "base_uri": "https://localhost:8080/"
        },
        "id": "_ZCFYpSpFaYN",
        "outputId": "4b6876df-bee0-48c0-983b-c3268dc6a37f"
      },
      "outputs": [
        {
          "name": "stdout",
          "output_type": "stream",
          "text": [
            "       year countrycode             Y         K           L     alpha  \\\n",
            "5926   1996         ITA  2.170005e+06  0.689952   22.114836  0.484425   \n",
            "4316   1996         GBR  1.885852e+06  0.604429   25.924555  0.414704   \n",
            "12156  1996         USA  1.188185e+07  0.539946  129.357666  0.393235   \n",
            "4176   1996         FRA  2.043539e+06  0.619433   23.806284  0.381140   \n",
            "6136   1996         JPN  4.285729e+06  0.719400   67.725853  0.429427   \n",
            "2146   1996         CAN  1.076842e+06  0.486632   13.636177  0.345020   \n",
            "3266   1996         DEU  3.132657e+06  0.673956   37.807400  0.369455   \n",
            "4177   1997         FRA  2.091282e+06  0.633773   24.003853  0.381140   \n",
            "6137   1997         JPN  4.331846e+06  0.750685   68.184273  0.429427   \n",
            "3267   1997         DEU  3.188799e+06  0.692014   37.770332  0.369455   \n",
            "\n",
            "                  A          test      ln(y)      ln(A)     ln(k)      test1  \\\n",
            "5926   526326.87500  2.170006e+06  11.493992  13.173677 -3.467383  11.493991   \n",
            "4316   345736.81250  1.885852e+06  11.194699  12.753433 -3.758662  11.194700   \n",
            "12156  792083.62500  1.188185e+07  11.427941  13.582422 -5.478868  11.427940   \n",
            "4176   344892.09375  2.043539e+06  11.360244  12.750987 -3.648901  11.360244   \n",
            "6136   445518.21875  4.285729e+06  11.055333  13.006993 -4.544806  11.055333   \n",
            "2146   249386.56250  1.076842e+06  11.276816  12.426760 -3.332973  11.276816   \n",
            "3266   366853.56250  3.132657e+06  11.324887  12.812718 -4.027095  11.324887   \n",
            "4177   348099.34375  2.091282e+06  11.375073  12.760243 -3.634279  11.375073   \n",
            "6137   440456.62500  4.331846e+06  11.059290  12.995567 -4.508983  11.059290   \n",
            "3267   370026.71875  3.188799e+06  11.343631  12.821331 -3.999673  11.343632   \n",
            "\n",
            "       growth_rate  TFP_growth  capital_deepening     test2  \n",
            "5926      0.867462   -0.153446           1.020845  0.867399  \n",
            "4316      1.473427    0.350094           1.123467  1.473561  \n",
            "12156     2.227402    1.278400           0.948927  2.227327  \n",
            "4176      0.780487    0.160599           0.619912  0.780511  \n",
            "6136      2.952003    1.031971           1.920096  2.952067  \n",
            "2146      0.621414   -0.201416           0.822823  0.621407  \n",
            "3266      0.824928   -0.110340           0.935269  0.824928  \n",
            "4177      1.482964    0.925636           0.557302  1.482939  \n",
            "6137      0.395679   -1.142597           1.538309  0.395712  \n",
            "3267      1.874352    0.861263           1.013127  1.874390  \n"
          ]
        },
        {
          "name": "stderr",
          "output_type": "stream",
          "text": [
            "C:\\Users\\tonoh\\AppData\\Local\\Temp\\ipykernel_11032\\297064305.py:40: SettingWithCopyWarning: \n",
            "A value is trying to be set on a copy of a slice from a DataFrame.\n",
            "Try using .loc[row_indexer,col_indexer] = value instead\n",
            "\n",
            "See the caveats in the documentation: https://pandas.pydata.org/pandas-docs/stable/user_guide/indexing.html#returning-a-view-versus-a-copy\n",
            "  data['test2'] = data['TFP_growth'] + data['capital_deepening']\n",
            "C:\\Users\\tonoh\\AppData\\Local\\Temp\\ipykernel_11032\\297064305.py:43: SettingWithCopyWarning: \n",
            "A value is trying to be set on a copy of a slice from a DataFrame\n",
            "\n",
            "See the caveats in the documentation: https://pandas.pydata.org/pandas-docs/stable/user_guide/indexing.html#returning-a-view-versus-a-copy\n",
            "  data.rename(columns = {'alpha':'capital_share'}, inplace = True)\n",
            "C:\\Users\\tonoh\\AppData\\Local\\Temp\\ipykernel_11032\\297064305.py:44: SettingWithCopyWarning: \n",
            "A value is trying to be set on a copy of a slice from a DataFrame.\n",
            "Try using .loc[row_indexer,col_indexer] = value instead\n",
            "\n",
            "See the caveats in the documentation: https://pandas.pydata.org/pandas-docs/stable/user_guide/indexing.html#returning-a-view-versus-a-copy\n",
            "  data['TFP_share'] = 1 - data['capital_share']\n"
          ]
        }
      ],
      "source": [
        "import pandas as pd\n",
        "import numpy as np\n",
        "\n",
        "# Load data\n",
        "pwt1001 = pd.read_stata('https://dataverse.nl/api/access/datafile/354098')\n",
        "\n",
        "# Filter and select relevant columns\n",
        "data = pwt1001.loc[pwt1001['country'].isin([\"France\",\"Germany\",\"Canada\",\"Italy\",\"Japan\",\"United Kingdom\",\"United States\"])][['year', 'countrycode', 'rgdpna', 'rkna', 'emp', 'labsh','avh']]\n",
        "data = data.loc[(data['year'] >= 1995) & (data['year'] <= 2019)].dropna()\n",
        "\n",
        "# Y = rgdpna, K = rkna, L = emp (* avh?), alpha = 1 - labsh then fix by country, A = (the rest)\n",
        "data['Y'] = data['rgdpna']\n",
        "data['K'] = data['rkna']\n",
        "data['L'] = data['emp']\n",
        "data['alpha'] = 1 - data['labsh']\n",
        "data['alpha'] = data.groupby('countrycode')['alpha'].transform('mean')\n",
        "data['A'] = data['Y'] / ((data['K'] ** data['alpha']) * (data['L'] ** (1 - data['alpha'])))\n",
        "\n",
        "data['test'] = data['A'] * (data['K'] ** data['alpha']) * (data['L'] ** (1 - data['alpha']))\n",
        "data.drop(data.columns[[2,3,4,5,6]], axis=1, inplace=True)\n",
        "# print(data.head(10))\n",
        "\n",
        "# y = Y/L, k = K/L, ln(y) = ln(A) + alpha * ln(k)\n",
        "data['ln(y)'] = np.log(data['Y'] / data['L'])\n",
        "data['ln(A)'] = np.log(data['A'])\n",
        "data['ln(k)'] = np.log(data['K'] / data['L'])\n",
        "\n",
        "data['test1'] = data['ln(A)'] + data['alpha'] * data['ln(k)']\n",
        "#print(data.head(10))\n",
        "\n",
        "data = data.sort_values('year')\n",
        "grouped_data = data.groupby('countrycode')\n",
        "\n",
        "data['growth_rate'] = grouped_data['ln(y)'].diff() * 100\n",
        "data['TFP_growth'] = grouped_data['ln(A)'].diff() * 100\n",
        "data['capital_deepening'] = data['alpha'] * (grouped_data['ln(k)'].diff() * 100)\n",
        "\n",
        "data = data.dropna()\n",
        "\n",
        "data['test2'] = data['TFP_growth'] + data['capital_deepening']\n",
        "print(data.head(10))\n",
        "\n",
        "data.rename(columns = {'alpha':'capital_share'}, inplace = True)\n",
        "data['TFP_share'] = 1 - data['capital_share']\n",
        "\n",
        "summary = data.groupby('countrycode').agg({'growth_rate': 'mean',\n",
        "                                           'TFP_growth':'mean',\n",
        "                                           'capital_deepening':'mean',\n",
        "                                           'TFP_share':'mean',\n",
        "                                           'capital_share':'mean'})\n",
        "#print('---summary---')\n",
        "#print(summary)\n",
        "\n",
        "overall = summary.mean()\n",
        "#print('---overall average---')\n",
        "#print(overall)"
      ]
    }
  ],
  "metadata": {
    "colab": {
      "authorship_tag": "ABX9TyMUidYrGCrv7hAHQmzvx9iH",
      "include_colab_link": true,
      "provenance": []
    },
    "kernelspec": {
      "display_name": "Python 3",
      "name": "python3"
    },
    "language_info": {
      "codemirror_mode": {
        "name": "ipython",
        "version": 3
      },
      "file_extension": ".py",
      "mimetype": "text/x-python",
      "name": "python",
      "nbconvert_exporter": "python",
      "pygments_lexer": "ipython3",
      "version": "3.9.12"
    }
  },
  "nbformat": 4,
  "nbformat_minor": 0
}
