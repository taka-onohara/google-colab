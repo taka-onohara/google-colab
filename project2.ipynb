{
  "cells": [
    {
      "attachments": {},
      "cell_type": "markdown",
      "metadata": {
        "colab_type": "text",
        "id": "view-in-github"
      },
      "source": [
        "<a href=\"https://colab.research.google.com/github/taka-onohara/google-colab/blob/main/Untitled1.ipynb\" target=\"_parent\"><img src=\"https://colab.research.google.com/assets/colab-badge.svg\" alt=\"Open In Colab\"/></a>"
      ]
    },
    {
      "cell_type": "code",
      "execution_count": 2,
      "metadata": {
        "colab": {
          "base_uri": "https://localhost:8080/"
        },
        "id": "_ZCFYpSpFaYN",
        "outputId": "4b6876df-bee0-48c0-983b-c3268dc6a37f"
      },
      "outputs": [
        {
          "name": "stdout",
          "output_type": "stream",
          "text": [
            "       year countrycode             Y         K              L     alpha  \\\n",
            "5925   1995         ITA  2.142860e+06  0.672925   40889.500036  0.474591   \n",
            "4315   1995         GBR  1.840006e+06  0.582493   44219.432146  0.455778   \n",
            "6135   1995         JPN  4.156866e+06  0.687249  129334.225177  0.401236   \n",
            "4175   1995         FRA  2.015066e+06  0.605657   37882.299026  0.379842   \n",
            "3265   1995         DEU  3.107615e+06  0.657256   57879.831003  0.338852   \n",
            "12155  1995         USA  1.144990e+07  0.519351  231660.254131  0.392623   \n",
            "5926   1996         ITA  2.170005e+06  0.689952   41269.639548  0.472588   \n",
            "4316   1996         GBR  1.885852e+06  0.604429   44644.481403  0.466012   \n",
            "12156  1996         USA  1.188185e+07  0.539946  235886.358648  0.392884   \n",
            "4176   1996         FRA  2.043539e+06  0.619433   38025.337150  0.376637   \n",
            "\n",
            "                 A          test     ln(y)     ln(A)      ln(k)     test1  \\\n",
            "5925   9764.643078  2.142860e+06  3.959023  9.186523 -11.014750  3.959023   \n",
            "4315   6975.062829  1.840006e+06  3.728360  8.850097 -11.237357  3.728360   \n",
            "6135   4201.554171  4.156866e+06  3.470117  8.343210 -12.145215  3.470117   \n",
            "4175   3529.036783  2.015066e+06  3.973923  8.168780 -11.043681  3.973923   \n",
            "3265   2543.616999  3.107615e+06  3.983242  7.841342 -11.385807  3.983242   \n",
            "12155  8166.356390  1.144990e+07  3.900464  9.007778 -13.008202  3.900464   \n",
            "5926   9512.502133  2.170005e+06  3.962358  9.160362 -10.999016  3.962358   \n",
            "4316   7843.058219  1.885852e+06  3.743404  8.967384 -11.209957  3.743404   \n",
            "12156  8282.938213  1.188185e+07  3.919417  9.021953 -12.987392  3.919417   \n",
            "4176   3417.264064  2.043539e+06  3.984185  8.136596 -11.024959  3.984186   \n",
            "\n",
            "       growth rate  TFP growth  capital deepening       test2  \n",
            "5925     -4.532285   71.999908          -6.682774   65.317134  \n",
            "4315    -50.660593   62.203337         -27.970446   34.232891  \n",
            "6135    -55.745792  -78.185205         -59.094641 -137.279845  \n",
            "4175    -26.704851   -1.093471          -1.691883   -2.785353  \n",
            "3265     -6.834980   21.834657         -35.155802  -13.321144  \n",
            "12155    13.714740   15.604626         -52.888103  -37.283477  \n",
            "5926      0.333440   -2.616107           0.743543   -1.872564  \n",
            "4316      1.504444   11.728750           1.276877   13.005627  \n",
            "12156     1.895259    1.417493           0.817601    2.235093  \n",
            "4176      1.026235   -3.218472           0.705144   -2.513328  \n"
          ]
        }
      ],
      "source": [
        "import pandas as pd\n",
        "import numpy as np\n",
        "\n",
        "# Load data\n",
        "pwt1001 = pd.read_stata('https://dataverse.nl/api/access/datafile/354098')\n",
        "\n",
        "# Filter and select relevant columns\n",
        "data = pwt1001.loc[pwt1001['country'].isin([\"France\",\"Germany\",\"Canada\",\"Italy\",\"Japan\",\"United Kingdom\",\"United States\"])][['year', 'countrycode', 'rgdpna', 'rkna', 'emp', 'labsh','avh']]\n",
        "data = data.loc[(data['year'] >= 1995) & (data['year'] <= 2019)].dropna()\n",
        "\n",
        "# Y = rgdpna, K = rkna, L = emp * avh, alpha = 1 - labsh, A = (the rest)\n",
        "data['Y'] = data['rgdpna']\n",
        "data['K'] = data['rkna']\n",
        "data['L'] = data['emp'] * data['avh']\n",
        "data['alpha'] = 1 - data['labsh']\n",
        "data['A'] = data['Y'] / ((data['K'] ** data['alpha']) * (data['L'] ** data['labsh']))\n",
        "data['test'] = data['A'] * (data['K'] ** data['alpha']) * (data['L'] ** data['labsh'])\n",
        "data.drop(data.columns[[2,3,4,5,6]], axis=1, inplace=True)\n",
        "\n",
        "# print(data.head(10))\n",
        "\n",
        "# y = Y/L, k = K/L, ln(y) = ln(A) + alpha * ln(k)\n",
        "data['ln(y)'] = np.log(data['Y'] / data['L'])\n",
        "data['ln(A)'] = np.log(data['A'])\n",
        "data['ln(k)'] = np.log(data['K'] / data['L'])\n",
        "\n",
        "data['test1'] = data['ln(A)'] + data['alpha'] * data['ln(k)']\n",
        "# print(data.head(10))\n",
        "\n",
        "data['growth rate'] = data['ln(y)'].diff() * 100\n",
        "data['TFP growth'] = data['ln(A)'].diff() * 100 \n",
        "data['capital deepening'] = data['alpha'] * (data['ln(k)'].diff() * 100 )\n",
        "\n",
        "data['test2'] = data['TFP growth'] + data['capital deepening']\n",
        "\n",
        "\n",
        "# Order by year\n",
        "data = data.sort_values('year')\n",
        "\n",
        "# Group by isocode\n",
        "grouped_data = data.groupby('countrycode')\n",
        "\n",
        "data = data.dropna()\n",
        "\n",
        "print(data.head(10))\n"
      ]
    }
  ],
  "metadata": {
    "colab": {
      "authorship_tag": "ABX9TyMUidYrGCrv7hAHQmzvx9iH",
      "include_colab_link": true,
      "provenance": []
    },
    "kernelspec": {
      "display_name": "Python 3",
      "name": "python3"
    },
    "language_info": {
      "codemirror_mode": {
        "name": "ipython",
        "version": 3
      },
      "file_extension": ".py",
      "mimetype": "text/x-python",
      "name": "python",
      "nbconvert_exporter": "python",
      "pygments_lexer": "ipython3",
      "version": "3.9.12"
    }
  },
  "nbformat": 4,
  "nbformat_minor": 0
}
