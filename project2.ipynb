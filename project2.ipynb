{
  "cells": [
    {
      "attachments": {},
      "cell_type": "markdown",
      "metadata": {
        "colab_type": "text",
        "id": "view-in-github"
      },
      "source": [
        "<a href=\"https://colab.research.google.com/github/taka-onohara/google-colab/blob/main/Untitled1.ipynb\" target=\"_parent\"><img src=\"https://colab.research.google.com/assets/colab-badge.svg\" alt=\"Open In Colab\"/></a>"
      ]
    },
    {
      "cell_type": "code",
      "execution_count": 3,
      "metadata": {
        "colab": {
          "base_uri": "https://localhost:8080/"
        },
        "id": "_ZCFYpSpFaYN",
        "outputId": "4b6876df-bee0-48c0-983b-c3268dc6a37f"
      },
      "outputs": [
        {
          "name": "stdout",
          "output_type": "stream",
          "text": [
            "---summary---\n",
            "             growth_rate  TFP_growth  capital_deepening  TFP_share  \\\n",
            "countrycode                                                          \n",
            "CAN             1.117384    1.677697          -0.560312   0.653810   \n",
            "DEU             1.073874    1.409886          -0.336012   0.629270   \n",
            "FRA             1.087678    0.247012           0.840665   0.618806   \n",
            "GBR             1.149943   -1.598218           2.748162   0.587007   \n",
            "ITA             0.285631   -0.256089           0.541721   0.515165   \n",
            "JPN             1.221666    2.118842          -0.897175   0.569399   \n",
            "USA             1.658237    1.355163           0.303074   0.606740   \n",
            "\n",
            "             capital_share  \n",
            "countrycode                 \n",
            "CAN               0.346190  \n",
            "DEU               0.370730  \n",
            "FRA               0.381194  \n",
            "GBR               0.412993  \n",
            "ITA               0.484835  \n",
            "JPN               0.430601  \n",
            "USA               0.393260  \n",
            "---overall average---\n",
            "growth_rate          1.084916\n",
            "TFP_growth           0.707756\n",
            "capital_deepening    0.377160\n",
            "TFP_share            0.597171\n",
            "capital_share        0.402829\n",
            "dtype: float64\n"
          ]
        }
      ],
      "source": [
        "import pandas as pd\n",
        "import numpy as np\n",
        "\n",
        "# Load data\n",
        "pwt1001 = pd.read_stata('https://dataverse.nl/api/access/datafile/354098')\n",
        "\n",
        "# Filter and select relevant columns\n",
        "data = pwt1001.loc[pwt1001['country'].isin([\"France\",\"Germany\",\"Canada\",\"Italy\",\"Japan\",\"United Kingdom\",\"United States\"])][['year', 'countrycode', 'rgdpna', 'rkna', 'emp', 'labsh','avh']]\n",
        "data = data.loc[(data['year'] >= 1995) & (data['year'] <= 2019)].dropna()\n",
        "\n",
        "# Y = rgdpna, K = rkna, L = emp * avh, alpha = 1 - labsh, A = (the rest)\n",
        "data['Y'] = data['rgdpna']\n",
        "data['K'] = data['rkna']\n",
        "data['L'] = data['emp'] * data['avh']\n",
        "data['alpha'] = 1 - data['labsh']\n",
        "data['A'] = data['Y'] / ((data['K'] ** data['alpha']) * (data['L'] ** data['labsh']))\n",
        "\n",
        "data['test'] = data['A'] * (data['K'] ** data['alpha']) * (data['L'] ** data['labsh'])\n",
        "data.drop(data.columns[[2,3,4,5,6]], axis=1, inplace=True)\n",
        "# print(data.head(10))\n",
        "\n",
        "# y = Y/L, k = K/L, ln(y) = ln(A) + alpha * ln(k)\n",
        "data['ln(y)'] = np.log(data['Y'] / data['L'])\n",
        "data['ln(A)'] = np.log(data['A'])\n",
        "data['ln(k)'] = np.log(data['K'] / data['L'])\n",
        "\n",
        "data['test1'] = data['ln(A)'] + data['alpha'] * data['ln(k)']\n",
        "# print(data.head(10))\n",
        "\n",
        "data = data.sort_values('year').groupby('countrycode').apply(lambda x: x.assign(\n",
        "    growth_rate = x['ln(y)'].diff() * 100,\n",
        "    TFP_growth = x['ln(A)'].diff() * 100,\n",
        "    capital_deepening = (x['alpha'] * x['ln(k)']).diff() * 100\n",
        ")).reset_index(drop=True).dropna()\n",
        "\n",
        "data['test2'] = data['TFP_growth'] + data['capital_deepening']\n",
        "#print(data.head(10))\n",
        "\n",
        "data.rename(columns = {'alpha':'capital_share'}, inplace = True)\n",
        "data['TFP_share'] = 1 - data['capital_share']\n",
        "\n",
        "summary = data.groupby('countrycode').agg({'growth_rate': 'mean',\n",
        "                                           'TFP_growth':'mean',\n",
        "                                           'capital_deepening':'mean',\n",
        "                                           'TFP_share':'mean',\n",
        "                                           'capital_share':'mean'})\n",
        "print('---summary---')\n",
        "print(summary)\n",
        "\n",
        "overall = summary.mean()\n",
        "print('---overall average---')\n",
        "print(overall)"
      ]
    }
  ],
  "metadata": {
    "colab": {
      "authorship_tag": "ABX9TyMUidYrGCrv7hAHQmzvx9iH",
      "include_colab_link": true,
      "provenance": []
    },
    "kernelspec": {
      "display_name": "Python 3",
      "name": "python3"
    },
    "language_info": {
      "codemirror_mode": {
        "name": "ipython",
        "version": 3
      },
      "file_extension": ".py",
      "mimetype": "text/x-python",
      "name": "python",
      "nbconvert_exporter": "python",
      "pygments_lexer": "ipython3",
      "version": "3.9.12"
    }
  },
  "nbformat": 4,
  "nbformat_minor": 0
}
